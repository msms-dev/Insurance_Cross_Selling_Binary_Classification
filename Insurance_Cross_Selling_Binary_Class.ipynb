{
 "cells": [
  {
   "cell_type": "code",
   "execution_count": 1,
   "id": "d31b3a81-a2e5-46a2-8290-07a96f509efd",
   "metadata": {},
   "outputs": [],
   "source": [
    "import numpy as np \n",
    "import pandas as pd"
   ]
  },
  {
   "cell_type": "markdown",
   "id": "7173de1a-9209-4bd4-a7bd-6c21660c55a3",
   "metadata": {},
   "source": [
    "#### Import Data"
   ]
  },
  {
   "cell_type": "code",
   "execution_count": 2,
   "id": "ac5faf00-d3ad-444e-a75b-0dcfa858245c",
   "metadata": {},
   "outputs": [],
   "source": [
    "test_df = pd.read_csv('/Users/maxsmith/Desktop/Coding/Kaggle/Insurance_Binary/test.csv')"
   ]
  },
  {
   "cell_type": "code",
   "execution_count": 3,
   "id": "60343cfd-94ad-495d-8fc7-b79b9a110655",
   "metadata": {},
   "outputs": [],
   "source": [
    "train_df = pd.read_csv('/Users/maxsmith/Desktop/Coding/Kaggle/Insurance_Binary/train.csv')"
   ]
  },
  {
   "cell_type": "markdown",
   "id": "6bdb8ea5-055c-45a2-ba68-557cef2708de",
   "metadata": {},
   "source": [
    "#### Quick Look at train & stats"
   ]
  },
  {
   "cell_type": "code",
   "execution_count": 4,
   "id": "cf940dfa-10a9-4b6a-b148-a5c97a4b8775",
   "metadata": {},
   "outputs": [
    {
     "data": {
      "text/html": [
       "<div>\n",
       "<style scoped>\n",
       "    .dataframe tbody tr th:only-of-type {\n",
       "        vertical-align: middle;\n",
       "    }\n",
       "\n",
       "    .dataframe tbody tr th {\n",
       "        vertical-align: top;\n",
       "    }\n",
       "\n",
       "    .dataframe thead th {\n",
       "        text-align: right;\n",
       "    }\n",
       "</style>\n",
       "<table border=\"1\" class=\"dataframe\">\n",
       "  <thead>\n",
       "    <tr style=\"text-align: right;\">\n",
       "      <th></th>\n",
       "      <th>id</th>\n",
       "      <th>Gender</th>\n",
       "      <th>Age</th>\n",
       "      <th>Driving_License</th>\n",
       "      <th>Region_Code</th>\n",
       "      <th>Previously_Insured</th>\n",
       "      <th>Vehicle_Age</th>\n",
       "      <th>Vehicle_Damage</th>\n",
       "      <th>Annual_Premium</th>\n",
       "      <th>Policy_Sales_Channel</th>\n",
       "      <th>Vintage</th>\n",
       "      <th>Response</th>\n",
       "    </tr>\n",
       "  </thead>\n",
       "  <tbody>\n",
       "    <tr>\n",
       "      <th>0</th>\n",
       "      <td>0</td>\n",
       "      <td>Male</td>\n",
       "      <td>21</td>\n",
       "      <td>1</td>\n",
       "      <td>35.0</td>\n",
       "      <td>0</td>\n",
       "      <td>1-2 Year</td>\n",
       "      <td>Yes</td>\n",
       "      <td>65101.0</td>\n",
       "      <td>124.0</td>\n",
       "      <td>187</td>\n",
       "      <td>0</td>\n",
       "    </tr>\n",
       "    <tr>\n",
       "      <th>1</th>\n",
       "      <td>1</td>\n",
       "      <td>Male</td>\n",
       "      <td>43</td>\n",
       "      <td>1</td>\n",
       "      <td>28.0</td>\n",
       "      <td>0</td>\n",
       "      <td>&gt; 2 Years</td>\n",
       "      <td>Yes</td>\n",
       "      <td>58911.0</td>\n",
       "      <td>26.0</td>\n",
       "      <td>288</td>\n",
       "      <td>1</td>\n",
       "    </tr>\n",
       "    <tr>\n",
       "      <th>2</th>\n",
       "      <td>2</td>\n",
       "      <td>Female</td>\n",
       "      <td>25</td>\n",
       "      <td>1</td>\n",
       "      <td>14.0</td>\n",
       "      <td>1</td>\n",
       "      <td>&lt; 1 Year</td>\n",
       "      <td>No</td>\n",
       "      <td>38043.0</td>\n",
       "      <td>152.0</td>\n",
       "      <td>254</td>\n",
       "      <td>0</td>\n",
       "    </tr>\n",
       "    <tr>\n",
       "      <th>3</th>\n",
       "      <td>3</td>\n",
       "      <td>Female</td>\n",
       "      <td>35</td>\n",
       "      <td>1</td>\n",
       "      <td>1.0</td>\n",
       "      <td>0</td>\n",
       "      <td>1-2 Year</td>\n",
       "      <td>Yes</td>\n",
       "      <td>2630.0</td>\n",
       "      <td>156.0</td>\n",
       "      <td>76</td>\n",
       "      <td>0</td>\n",
       "    </tr>\n",
       "    <tr>\n",
       "      <th>4</th>\n",
       "      <td>4</td>\n",
       "      <td>Female</td>\n",
       "      <td>36</td>\n",
       "      <td>1</td>\n",
       "      <td>15.0</td>\n",
       "      <td>1</td>\n",
       "      <td>1-2 Year</td>\n",
       "      <td>No</td>\n",
       "      <td>31951.0</td>\n",
       "      <td>152.0</td>\n",
       "      <td>294</td>\n",
       "      <td>0</td>\n",
       "    </tr>\n",
       "  </tbody>\n",
       "</table>\n",
       "</div>"
      ],
      "text/plain": [
       "   id  Gender  Age  Driving_License  Region_Code  Previously_Insured  \\\n",
       "0   0    Male   21                1         35.0                   0   \n",
       "1   1    Male   43                1         28.0                   0   \n",
       "2   2  Female   25                1         14.0                   1   \n",
       "3   3  Female   35                1          1.0                   0   \n",
       "4   4  Female   36                1         15.0                   1   \n",
       "\n",
       "  Vehicle_Age Vehicle_Damage  Annual_Premium  Policy_Sales_Channel  Vintage  \\\n",
       "0    1-2 Year            Yes         65101.0                 124.0      187   \n",
       "1   > 2 Years            Yes         58911.0                  26.0      288   \n",
       "2    < 1 Year             No         38043.0                 152.0      254   \n",
       "3    1-2 Year            Yes          2630.0                 156.0       76   \n",
       "4    1-2 Year             No         31951.0                 152.0      294   \n",
       "\n",
       "   Response  \n",
       "0         0  \n",
       "1         1  \n",
       "2         0  \n",
       "3         0  \n",
       "4         0  "
      ]
     },
     "execution_count": 4,
     "metadata": {},
     "output_type": "execute_result"
    }
   ],
   "source": [
    "train_df.head()"
   ]
  },
  {
   "cell_type": "code",
   "execution_count": 5,
   "id": "bfece85b-0fb0-4758-888e-fd2593e0a53d",
   "metadata": {},
   "outputs": [
    {
     "name": "stdout",
     "output_type": "stream",
     "text": [
      "<class 'pandas.core.frame.DataFrame'>\n",
      "RangeIndex: 11504798 entries, 0 to 11504797\n",
      "Data columns (total 12 columns):\n",
      " #   Column                Dtype  \n",
      "---  ------                -----  \n",
      " 0   id                    int64  \n",
      " 1   Gender                object \n",
      " 2   Age                   int64  \n",
      " 3   Driving_License       int64  \n",
      " 4   Region_Code           float64\n",
      " 5   Previously_Insured    int64  \n",
      " 6   Vehicle_Age           object \n",
      " 7   Vehicle_Damage        object \n",
      " 8   Annual_Premium        float64\n",
      " 9   Policy_Sales_Channel  float64\n",
      " 10  Vintage               int64  \n",
      " 11  Response              int64  \n",
      "dtypes: float64(3), int64(6), object(3)\n",
      "memory usage: 1.0+ GB\n"
     ]
    }
   ],
   "source": [
    "train_df.info()"
   ]
  },
  {
   "cell_type": "code",
   "execution_count": 6,
   "id": "bed07e69-0474-4082-9c53-14a4d06bae87",
   "metadata": {},
   "outputs": [
    {
     "data": {
      "text/html": [
       "<div>\n",
       "<style scoped>\n",
       "    .dataframe tbody tr th:only-of-type {\n",
       "        vertical-align: middle;\n",
       "    }\n",
       "\n",
       "    .dataframe tbody tr th {\n",
       "        vertical-align: top;\n",
       "    }\n",
       "\n",
       "    .dataframe thead th {\n",
       "        text-align: right;\n",
       "    }\n",
       "</style>\n",
       "<table border=\"1\" class=\"dataframe\">\n",
       "  <thead>\n",
       "    <tr style=\"text-align: right;\">\n",
       "      <th></th>\n",
       "      <th>id</th>\n",
       "      <th>Age</th>\n",
       "      <th>Driving_License</th>\n",
       "      <th>Region_Code</th>\n",
       "      <th>Previously_Insured</th>\n",
       "      <th>Annual_Premium</th>\n",
       "      <th>Policy_Sales_Channel</th>\n",
       "      <th>Vintage</th>\n",
       "      <th>Response</th>\n",
       "    </tr>\n",
       "  </thead>\n",
       "  <tbody>\n",
       "    <tr>\n",
       "      <th>count</th>\n",
       "      <td>1.150480e+07</td>\n",
       "      <td>1.150480e+07</td>\n",
       "      <td>1.150480e+07</td>\n",
       "      <td>1.150480e+07</td>\n",
       "      <td>1.150480e+07</td>\n",
       "      <td>1.150480e+07</td>\n",
       "      <td>1.150480e+07</td>\n",
       "      <td>1.150480e+07</td>\n",
       "      <td>1.150480e+07</td>\n",
       "    </tr>\n",
       "    <tr>\n",
       "      <th>mean</th>\n",
       "      <td>5.752398e+06</td>\n",
       "      <td>3.838356e+01</td>\n",
       "      <td>9.980220e-01</td>\n",
       "      <td>2.641869e+01</td>\n",
       "      <td>4.629966e-01</td>\n",
       "      <td>3.046137e+04</td>\n",
       "      <td>1.124254e+02</td>\n",
       "      <td>1.638977e+02</td>\n",
       "      <td>1.229973e-01</td>\n",
       "    </tr>\n",
       "    <tr>\n",
       "      <th>std</th>\n",
       "      <td>3.321149e+06</td>\n",
       "      <td>1.499346e+01</td>\n",
       "      <td>4.443120e-02</td>\n",
       "      <td>1.299159e+01</td>\n",
       "      <td>4.986289e-01</td>\n",
       "      <td>1.645475e+04</td>\n",
       "      <td>5.403571e+01</td>\n",
       "      <td>7.997953e+01</td>\n",
       "      <td>3.284341e-01</td>\n",
       "    </tr>\n",
       "    <tr>\n",
       "      <th>min</th>\n",
       "      <td>0.000000e+00</td>\n",
       "      <td>2.000000e+01</td>\n",
       "      <td>0.000000e+00</td>\n",
       "      <td>0.000000e+00</td>\n",
       "      <td>0.000000e+00</td>\n",
       "      <td>2.630000e+03</td>\n",
       "      <td>1.000000e+00</td>\n",
       "      <td>1.000000e+01</td>\n",
       "      <td>0.000000e+00</td>\n",
       "    </tr>\n",
       "    <tr>\n",
       "      <th>25%</th>\n",
       "      <td>2.876199e+06</td>\n",
       "      <td>2.400000e+01</td>\n",
       "      <td>1.000000e+00</td>\n",
       "      <td>1.500000e+01</td>\n",
       "      <td>0.000000e+00</td>\n",
       "      <td>2.527700e+04</td>\n",
       "      <td>2.900000e+01</td>\n",
       "      <td>9.900000e+01</td>\n",
       "      <td>0.000000e+00</td>\n",
       "    </tr>\n",
       "    <tr>\n",
       "      <th>50%</th>\n",
       "      <td>5.752398e+06</td>\n",
       "      <td>3.600000e+01</td>\n",
       "      <td>1.000000e+00</td>\n",
       "      <td>2.800000e+01</td>\n",
       "      <td>0.000000e+00</td>\n",
       "      <td>3.182400e+04</td>\n",
       "      <td>1.510000e+02</td>\n",
       "      <td>1.660000e+02</td>\n",
       "      <td>0.000000e+00</td>\n",
       "    </tr>\n",
       "    <tr>\n",
       "      <th>75%</th>\n",
       "      <td>8.628598e+06</td>\n",
       "      <td>4.900000e+01</td>\n",
       "      <td>1.000000e+00</td>\n",
       "      <td>3.500000e+01</td>\n",
       "      <td>1.000000e+00</td>\n",
       "      <td>3.945100e+04</td>\n",
       "      <td>1.520000e+02</td>\n",
       "      <td>2.320000e+02</td>\n",
       "      <td>0.000000e+00</td>\n",
       "    </tr>\n",
       "    <tr>\n",
       "      <th>max</th>\n",
       "      <td>1.150480e+07</td>\n",
       "      <td>8.500000e+01</td>\n",
       "      <td>1.000000e+00</td>\n",
       "      <td>5.200000e+01</td>\n",
       "      <td>1.000000e+00</td>\n",
       "      <td>5.401650e+05</td>\n",
       "      <td>1.630000e+02</td>\n",
       "      <td>2.990000e+02</td>\n",
       "      <td>1.000000e+00</td>\n",
       "    </tr>\n",
       "  </tbody>\n",
       "</table>\n",
       "</div>"
      ],
      "text/plain": [
       "                 id           Age  Driving_License   Region_Code  \\\n",
       "count  1.150480e+07  1.150480e+07     1.150480e+07  1.150480e+07   \n",
       "mean   5.752398e+06  3.838356e+01     9.980220e-01  2.641869e+01   \n",
       "std    3.321149e+06  1.499346e+01     4.443120e-02  1.299159e+01   \n",
       "min    0.000000e+00  2.000000e+01     0.000000e+00  0.000000e+00   \n",
       "25%    2.876199e+06  2.400000e+01     1.000000e+00  1.500000e+01   \n",
       "50%    5.752398e+06  3.600000e+01     1.000000e+00  2.800000e+01   \n",
       "75%    8.628598e+06  4.900000e+01     1.000000e+00  3.500000e+01   \n",
       "max    1.150480e+07  8.500000e+01     1.000000e+00  5.200000e+01   \n",
       "\n",
       "       Previously_Insured  Annual_Premium  Policy_Sales_Channel       Vintage  \\\n",
       "count        1.150480e+07    1.150480e+07          1.150480e+07  1.150480e+07   \n",
       "mean         4.629966e-01    3.046137e+04          1.124254e+02  1.638977e+02   \n",
       "std          4.986289e-01    1.645475e+04          5.403571e+01  7.997953e+01   \n",
       "min          0.000000e+00    2.630000e+03          1.000000e+00  1.000000e+01   \n",
       "25%          0.000000e+00    2.527700e+04          2.900000e+01  9.900000e+01   \n",
       "50%          0.000000e+00    3.182400e+04          1.510000e+02  1.660000e+02   \n",
       "75%          1.000000e+00    3.945100e+04          1.520000e+02  2.320000e+02   \n",
       "max          1.000000e+00    5.401650e+05          1.630000e+02  2.990000e+02   \n",
       "\n",
       "           Response  \n",
       "count  1.150480e+07  \n",
       "mean   1.229973e-01  \n",
       "std    3.284341e-01  \n",
       "min    0.000000e+00  \n",
       "25%    0.000000e+00  \n",
       "50%    0.000000e+00  \n",
       "75%    0.000000e+00  \n",
       "max    1.000000e+00  "
      ]
     },
     "execution_count": 6,
     "metadata": {},
     "output_type": "execute_result"
    }
   ],
   "source": [
    "train_df.describe()"
   ]
  },
  {
   "cell_type": "code",
   "execution_count": 7,
   "id": "d038423f-8bdd-4f6c-9324-5706859d1d89",
   "metadata": {},
   "outputs": [
    {
     "data": {
      "text/plain": [
       "Index(['id', 'Gender', 'Age', 'Driving_License', 'Region_Code',\n",
       "       'Previously_Insured', 'Vehicle_Age', 'Vehicle_Damage', 'Annual_Premium',\n",
       "       'Policy_Sales_Channel', 'Vintage', 'Response'],\n",
       "      dtype='object')"
      ]
     },
     "execution_count": 7,
     "metadata": {},
     "output_type": "execute_result"
    }
   ],
   "source": [
    "train_df.columns"
   ]
  },
  {
   "cell_type": "markdown",
   "id": "3d039961-cc04-4b95-916b-016d14d7c093",
   "metadata": {},
   "source": [
    "#### Splitting Columns into Numeric and Categorical"
   ]
  },
  {
   "cell_type": "code",
   "execution_count": 8,
   "id": "c5e51dea-ca96-4d7a-a41d-4dc288d3ef6f",
   "metadata": {},
   "outputs": [],
   "source": [
    "num_col = train_df.select_dtypes(include=['int64', 'float64']).columns.tolist()\n",
    "cat_col = train_df.select_dtypes(include=['object']).columns.tolist()"
   ]
  },
  {
   "cell_type": "code",
   "execution_count": 9,
   "id": "ec76e612-8d5e-48bd-99f1-b4011d1ba357",
   "metadata": {},
   "outputs": [
    {
     "data": {
      "text/plain": [
       "['Gender', 'Vehicle_Age', 'Vehicle_Damage']"
      ]
     },
     "execution_count": 9,
     "metadata": {},
     "output_type": "execute_result"
    }
   ],
   "source": [
    "cat_col"
   ]
  },
  {
   "cell_type": "code",
   "execution_count": 10,
   "id": "220ca7da-4f2f-4197-9c6e-72d9c621e230",
   "metadata": {},
   "outputs": [
    {
     "data": {
      "text/plain": [
       "['id',\n",
       " 'Age',\n",
       " 'Driving_License',\n",
       " 'Region_Code',\n",
       " 'Previously_Insured',\n",
       " 'Annual_Premium',\n",
       " 'Policy_Sales_Channel',\n",
       " 'Vintage',\n",
       " 'Response']"
      ]
     },
     "execution_count": 10,
     "metadata": {},
     "output_type": "execute_result"
    }
   ],
   "source": [
    "num_col"
   ]
  },
  {
   "cell_type": "code",
   "execution_count": 11,
   "id": "db900aee-543e-48fd-8113-e1d215757e85",
   "metadata": {},
   "outputs": [
    {
     "name": "stdout",
     "output_type": "stream",
     "text": [
      "Duplicates in Train Dataset:  0\n"
     ]
    }
   ],
   "source": [
    "print(\"Duplicates in Train Dataset: \",train_df.duplicated().sum())"
   ]
  },
  {
   "cell_type": "code",
   "execution_count": 12,
   "id": "ebf09444-0b5d-4dcb-a7d0-2c3e82a92082",
   "metadata": {},
   "outputs": [
    {
     "name": "stdout",
     "output_type": "stream",
     "text": [
      "Duplicates in Test Dataset:  0\n"
     ]
    }
   ],
   "source": [
    "print(\"Duplicates in Test Dataset: \",test_df.duplicated().sum())"
   ]
  },
  {
   "cell_type": "code",
   "execution_count": 13,
   "id": "8940ad90-4525-4223-8c03-c2e4d00e90a8",
   "metadata": {},
   "outputs": [
    {
     "name": "stdout",
     "output_type": "stream",
     "text": [
      "Checking Null Values in Train Dataset\n"
     ]
    },
    {
     "data": {
      "text/html": [
       "<div>\n",
       "<style scoped>\n",
       "    .dataframe tbody tr th:only-of-type {\n",
       "        vertical-align: middle;\n",
       "    }\n",
       "\n",
       "    .dataframe tbody tr th {\n",
       "        vertical-align: top;\n",
       "    }\n",
       "\n",
       "    .dataframe thead th {\n",
       "        text-align: right;\n",
       "    }\n",
       "</style>\n",
       "<table border=\"1\" class=\"dataframe\">\n",
       "  <thead>\n",
       "    <tr style=\"text-align: right;\">\n",
       "      <th></th>\n",
       "      <th>Total No. of Missing Values</th>\n",
       "      <th>% of Missing Values</th>\n",
       "    </tr>\n",
       "  </thead>\n",
       "  <tbody>\n",
       "    <tr>\n",
       "      <th>id</th>\n",
       "      <td>0</td>\n",
       "      <td>0.0</td>\n",
       "    </tr>\n",
       "    <tr>\n",
       "      <th>Gender</th>\n",
       "      <td>0</td>\n",
       "      <td>0.0</td>\n",
       "    </tr>\n",
       "    <tr>\n",
       "      <th>Age</th>\n",
       "      <td>0</td>\n",
       "      <td>0.0</td>\n",
       "    </tr>\n",
       "    <tr>\n",
       "      <th>Driving_License</th>\n",
       "      <td>0</td>\n",
       "      <td>0.0</td>\n",
       "    </tr>\n",
       "    <tr>\n",
       "      <th>Region_Code</th>\n",
       "      <td>0</td>\n",
       "      <td>0.0</td>\n",
       "    </tr>\n",
       "    <tr>\n",
       "      <th>Previously_Insured</th>\n",
       "      <td>0</td>\n",
       "      <td>0.0</td>\n",
       "    </tr>\n",
       "    <tr>\n",
       "      <th>Vehicle_Age</th>\n",
       "      <td>0</td>\n",
       "      <td>0.0</td>\n",
       "    </tr>\n",
       "    <tr>\n",
       "      <th>Vehicle_Damage</th>\n",
       "      <td>0</td>\n",
       "      <td>0.0</td>\n",
       "    </tr>\n",
       "    <tr>\n",
       "      <th>Annual_Premium</th>\n",
       "      <td>0</td>\n",
       "      <td>0.0</td>\n",
       "    </tr>\n",
       "    <tr>\n",
       "      <th>Policy_Sales_Channel</th>\n",
       "      <td>0</td>\n",
       "      <td>0.0</td>\n",
       "    </tr>\n",
       "    <tr>\n",
       "      <th>Vintage</th>\n",
       "      <td>0</td>\n",
       "      <td>0.0</td>\n",
       "    </tr>\n",
       "    <tr>\n",
       "      <th>Response</th>\n",
       "      <td>0</td>\n",
       "      <td>0.0</td>\n",
       "    </tr>\n",
       "  </tbody>\n",
       "</table>\n",
       "</div>"
      ],
      "text/plain": [
       "                      Total No. of Missing Values  % of Missing Values\n",
       "id                                              0                  0.0\n",
       "Gender                                          0                  0.0\n",
       "Age                                             0                  0.0\n",
       "Driving_License                                 0                  0.0\n",
       "Region_Code                                     0                  0.0\n",
       "Previously_Insured                              0                  0.0\n",
       "Vehicle_Age                                     0                  0.0\n",
       "Vehicle_Damage                                  0                  0.0\n",
       "Annual_Premium                                  0                  0.0\n",
       "Policy_Sales_Channel                            0                  0.0\n",
       "Vintage                                         0                  0.0\n",
       "Response                                        0                  0.0"
      ]
     },
     "execution_count": 13,
     "metadata": {},
     "output_type": "execute_result"
    }
   ],
   "source": [
    "print(\"Checking Null Values in Train Dataset\")\n",
    "missing_data = train_df.isnull().sum().to_frame().rename(columns={0:\"Total No. of Missing Values\"})\n",
    "missing_data[\"% of Missing Values\"] = round((missing_data[\"Total No. of Missing Values\"]/len(train_df))*100,2)\n",
    "missing_data"
   ]
  },
  {
   "cell_type": "markdown",
   "id": "cf07fcc3-0973-496c-8b23-52100b88c937",
   "metadata": {},
   "source": [
    "### Visualisation"
   ]
  },
  {
   "cell_type": "code",
   "execution_count": null,
   "id": "90c23044-5bf0-4603-beb4-262066def7de",
   "metadata": {},
   "outputs": [],
   "source": [
    "## Let's look at the target variable as "
   ]
  },
  {
   "cell_type": "code",
   "execution_count": 33,
   "id": "c6c15ad3-3c6c-4a9f-969b-3285ea55f11c",
   "metadata": {},
   "outputs": [
    {
     "name": "stderr",
     "output_type": "stream",
     "text": [
      "/var/folders/j6/wgmktnvs1yz0xntx2vt1_73h0000gn/T/ipykernel_94657/381518020.py:7: FutureWarning: \n",
      "\n",
      "Passing `palette` without assigning `hue` is deprecated and will be removed in v0.14.0. Assign the `x` variable to `hue` and set `legend=False` for the same effect.\n",
      "\n",
      "  sns.barplot(x=counts.index, y=counts.values, palette='Set3')\n"
     ]
    },
    {
     "data": {
      "image/png": "[encoded data removed]",
      "text/plain": [
       "<Figure size 1700x600 with 2 Axes>"
      ]
     },
     "metadata": {},
     "output_type": "display_data"
    }
   ],
   "source": [
    "def plot_counts_and_percentages(data, column):\n",
    "    plt.figure(figsize=(17,6))\n",
    "\n",
    "    # Bar plot for counts\n",
    "    plt.subplot(1,2,1)\n",
    "    counts = data[column].value_counts()\n",
    "    sns.barplot(x=counts.index, y=counts.values, palette='Set3')\n",
    "    plt.title(f\"{column} Counts\", fontweight=\"black\", size=14, pad=15)\n",
    "    for i, v in enumerate(counts.values):\n",
    "        plt.text(i,v,v,ha=\"center\",fontsize=14)\n",
    "\n",
    "    # Pie chart for percentages\n",
    "    plt.subplot(1, 2, 2)\n",
    "    colors = sns.color_palette('Set3', len(counts))\n",
    "    explode = [0] * len(counts)  # No slice will be exploded by default\n",
    "    explode[-1] = 0.1  # Explode the last slice\n",
    "    plt.pie(counts, labels=counts.index, autopct=\"%.2f%%\", textprops={\"size\": 14},\n",
    "            colors=colors, explode=explode, startangle=90)\n",
    "    center_circle = plt.Circle((0, 0), 0.3, fc='white')\n",
    "    fig = plt.gcf()\n",
    "    fig.gca().add_artist(center_circle)\n",
    "    plt.title(f\"{column} Percentages\", fontweight=\"black\", size=14, pad=15)\n",
    "\n",
    "    # Display the plots\n",
    "    plt.tight_layout()\n",
    "    plt.show()\n",
    "\n",
    "# Implement usage on response (target variable):\n",
    "plot_counts_and_percentages(train_df, \"Response\")"
   ]
  },
  {
   "cell_type": "code",
   "execution_count": 28,
   "id": "77c61ea0-b43f-470a-a58b-ccf8ebeb4614",
   "metadata": {},
   "outputs": [],
   "source": [
    "### only 12.3% of customers positively responded, so the data is not evenly distrubuted. y = imbalanced"
   ]
  },
  {
   "cell_type": "code",
   "execution_count": 14,
   "id": "90fb5721-cedb-4b5d-9996-46865c6e0723",
   "metadata": {},
   "outputs": [],
   "source": [
    "%matplotlib inline\n",
    "import matplotlib.pyplot as plt"
   ]
  },
  {
   "cell_type": "code",
   "execution_count": 15,
   "id": "5f9d5131-e1f4-40ab-9b08-22969742dc26",
   "metadata": {},
   "outputs": [
    {
     "data": {
      "text/plain": [
       "<function matplotlib.pyplot.show(close=None, block=None)>"
      ]
     },
     "execution_count": 15,
     "metadata": {},
     "output_type": "execute_result"
    },
    {
     "data": {
      "image/png": "[encoded data removed]",
      "text/plain": [
       "<Figure size 2000x1500 with 9 Axes>"
      ]
     },
     "metadata": {},
     "output_type": "display_data"
    }
   ],
   "source": [
    "train_df.hist(bins=50,figsize=(20,15))\n",
    "plt.show"
   ]
  },
  {
   "cell_type": "code",
   "execution_count": 16,
   "id": "c09e6c74-0501-4063-9022-f11cf9ff4361",
   "metadata": {},
   "outputs": [],
   "source": [
    "### Firstly can see the responses are skewed, most did not respond positively to the cross-selling"
   ]
  },
  {
   "cell_type": "markdown",
   "id": "bb7c3b43-cf4c-4322-998c-34c24d3f96a8",
   "metadata": {},
   "source": [
    "#### Creating a scatter matrix of the numeric features to investigate correlations"
   ]
  },
  {
   "cell_type": "code",
   "execution_count": 17,
   "id": "37556e2f-2191-42af-85d3-45c8f10f541e",
   "metadata": {},
   "outputs": [],
   "source": [
    "from pandas.plotting import scatter_matrix"
   ]
  },
  {
   "cell_type": "code",
   "execution_count": 18,
   "id": "8a99c21e-6685-4e73-a2cb-c9f7f9391c86",
   "metadata": {},
   "outputs": [],
   "source": [
    "# scatter_matrix(train_df[num_col], figsize=(12,8))"
   ]
  },
  {
   "cell_type": "code",
   "execution_count": 19,
   "id": "7cbf7991-ea2a-4cf8-ad96-7b6fefa330ec",
   "metadata": {},
   "outputs": [
    {
     "data": {
      "text/plain": [
       "<Axes: >"
      ]
     },
     "execution_count": 19,
     "metadata": {},
     "output_type": "execute_result"
    },
    {
     "data": {
      "image/png": "[encoded data removed]",
      "text/plain": [
       "<Figure size 1100x900 with 2 Axes>"
      ]
     },
     "metadata": {},
     "output_type": "display_data"
    }
   ],
   "source": [
    "import seaborn as sns\n",
    "import matplotlib.pyplot as plt\n",
    "\n",
    "# Drop non-numeric values\n",
    "train_num_df = train_df[num_col]\n",
    "\n",
    "# Compute the correlation matrix\n",
    "corr = train_num_df.corr()\n",
    "\n",
    "# Generate a mask for the upper triangle\n",
    "mask = np.triu(np.ones_like(corr, dtype=bool))\n",
    "\n",
    "# Set up the matplotlib figure\n",
    "f, ax = plt.subplots(figsize=(11, 9))\n",
    "\n",
    "# Generate a custom diverging colormap\n",
    "cmap = sns.diverging_palette(230, 20, as_cmap=True)\n",
    "\n",
    "# Draw the heatmap with the mask and correct aspect ratio\n",
    "sns.heatmap(corr, mask=mask, cmap=cmap, vmax=.3, center=0,\n",
    "            square=True, linewidths=.5, cbar_kws={\"shrink\": .5})"
   ]
  },
  {
   "cell_type": "markdown",
   "id": "c91bec10-8c9f-4bae-b048-2be2f741e9b8",
   "metadata": {},
   "source": [
    "#### Looks like Age could be particularly impactful.. Let's look at those in more depth"
   ]
  },
  {
   "cell_type": "code",
   "execution_count": 22,
   "id": "42c14b4e-a4d2-4a3d-9b96-bcd597677d79",
   "metadata": {},
   "outputs": [
    {
     "data": {
      "text/plain": [
       "<Axes: xlabel='Response', ylabel='Age'>"
      ]
     },
     "execution_count": 22,
     "metadata": {},
     "output_type": "execute_result"
    },
    {
     "data": {
      "image/png": "[encoded data removed]",
      "text/plain": [
       "<Figure size 640x480 with 1 Axes>"
      ]
     },
     "metadata": {},
     "output_type": "display_data"
    }
   ],
   "source": [
    "sns.boxplot(data=train_num_df, x=\"Response\", y=\"Age\")"
   ]
  },
  {
   "cell_type": "code",
   "execution_count": 34,
   "id": "438e0118-128c-42c1-ade6-9bdcbe45212c",
   "metadata": {},
   "outputs": [],
   "source": [
    "### Split the dataset into x and y"
   ]
  },
  {
   "cell_type": "code",
   "execution_count": 35,
   "id": "bf1e6dcd-c6ae-4631-9f56-262016a80639",
   "metadata": {},
   "outputs": [],
   "source": [
    "X = train_df.drop(['Response'], axis=1)\n",
    "y = train_df[['Response']]"
   ]
  },
  {
   "cell_type": "code",
   "execution_count": 36,
   "id": "c0b6e63d-285d-4b82-b60b-4562ee9aa5cd",
   "metadata": {},
   "outputs": [
    {
     "data": {
      "text/html": [
       "<div>\n",
       "<style scoped>\n",
       "    .dataframe tbody tr th:only-of-type {\n",
       "        vertical-align: middle;\n",
       "    }\n",
       "\n",
       "    .dataframe tbody tr th {\n",
       "        vertical-align: top;\n",
       "    }\n",
       "\n",
       "    .dataframe thead th {\n",
       "        text-align: right;\n",
       "    }\n",
       "</style>\n",
       "<table border=\"1\" class=\"dataframe\">\n",
       "  <thead>\n",
       "    <tr style=\"text-align: right;\">\n",
       "      <th></th>\n",
       "      <th>id</th>\n",
       "      <th>Gender</th>\n",
       "      <th>Age</th>\n",
       "      <th>Driving_License</th>\n",
       "      <th>Region_Code</th>\n",
       "      <th>Previously_Insured</th>\n",
       "      <th>Vehicle_Age</th>\n",
       "      <th>Vehicle_Damage</th>\n",
       "      <th>Annual_Premium</th>\n",
       "      <th>Policy_Sales_Channel</th>\n",
       "      <th>Vintage</th>\n",
       "    </tr>\n",
       "  </thead>\n",
       "  <tbody>\n",
       "    <tr>\n",
       "      <th>0</th>\n",
       "      <td>0</td>\n",
       "      <td>Male</td>\n",
       "      <td>21</td>\n",
       "      <td>1</td>\n",
       "      <td>35.0</td>\n",
       "      <td>0</td>\n",
       "      <td>1-2 Year</td>\n",
       "      <td>Yes</td>\n",
       "      <td>65101.0</td>\n",
       "      <td>124.0</td>\n",
       "      <td>187</td>\n",
       "    </tr>\n",
       "    <tr>\n",
       "      <th>1</th>\n",
       "      <td>1</td>\n",
       "      <td>Male</td>\n",
       "      <td>43</td>\n",
       "      <td>1</td>\n",
       "      <td>28.0</td>\n",
       "      <td>0</td>\n",
       "      <td>&gt; 2 Years</td>\n",
       "      <td>Yes</td>\n",
       "      <td>58911.0</td>\n",
       "      <td>26.0</td>\n",
       "      <td>288</td>\n",
       "    </tr>\n",
       "    <tr>\n",
       "      <th>2</th>\n",
       "      <td>2</td>\n",
       "      <td>Female</td>\n",
       "      <td>25</td>\n",
       "      <td>1</td>\n",
       "      <td>14.0</td>\n",
       "      <td>1</td>\n",
       "      <td>&lt; 1 Year</td>\n",
       "      <td>No</td>\n",
       "      <td>38043.0</td>\n",
       "      <td>152.0</td>\n",
       "      <td>254</td>\n",
       "    </tr>\n",
       "    <tr>\n",
       "      <th>3</th>\n",
       "      <td>3</td>\n",
       "      <td>Female</td>\n",
       "      <td>35</td>\n",
       "      <td>1</td>\n",
       "      <td>1.0</td>\n",
       "      <td>0</td>\n",
       "      <td>1-2 Year</td>\n",
       "      <td>Yes</td>\n",
       "      <td>2630.0</td>\n",
       "      <td>156.0</td>\n",
       "      <td>76</td>\n",
       "    </tr>\n",
       "    <tr>\n",
       "      <th>4</th>\n",
       "      <td>4</td>\n",
       "      <td>Female</td>\n",
       "      <td>36</td>\n",
       "      <td>1</td>\n",
       "      <td>15.0</td>\n",
       "      <td>1</td>\n",
       "      <td>1-2 Year</td>\n",
       "      <td>No</td>\n",
       "      <td>31951.0</td>\n",
       "      <td>152.0</td>\n",
       "      <td>294</td>\n",
       "    </tr>\n",
       "    <tr>\n",
       "      <th>...</th>\n",
       "      <td>...</td>\n",
       "      <td>...</td>\n",
       "      <td>...</td>\n",
       "      <td>...</td>\n",
       "      <td>...</td>\n",
       "      <td>...</td>\n",
       "      <td>...</td>\n",
       "      <td>...</td>\n",
       "      <td>...</td>\n",
       "      <td>...</td>\n",
       "      <td>...</td>\n",
       "    </tr>\n",
       "    <tr>\n",
       "      <th>11504793</th>\n",
       "      <td>11504793</td>\n",
       "      <td>Male</td>\n",
       "      <td>48</td>\n",
       "      <td>1</td>\n",
       "      <td>6.0</td>\n",
       "      <td>0</td>\n",
       "      <td>1-2 Year</td>\n",
       "      <td>Yes</td>\n",
       "      <td>27412.0</td>\n",
       "      <td>26.0</td>\n",
       "      <td>218</td>\n",
       "    </tr>\n",
       "    <tr>\n",
       "      <th>11504794</th>\n",
       "      <td>11504794</td>\n",
       "      <td>Female</td>\n",
       "      <td>26</td>\n",
       "      <td>1</td>\n",
       "      <td>36.0</td>\n",
       "      <td>0</td>\n",
       "      <td>&lt; 1 Year</td>\n",
       "      <td>Yes</td>\n",
       "      <td>29509.0</td>\n",
       "      <td>152.0</td>\n",
       "      <td>115</td>\n",
       "    </tr>\n",
       "    <tr>\n",
       "      <th>11504795</th>\n",
       "      <td>11504795</td>\n",
       "      <td>Female</td>\n",
       "      <td>29</td>\n",
       "      <td>1</td>\n",
       "      <td>32.0</td>\n",
       "      <td>1</td>\n",
       "      <td>&lt; 1 Year</td>\n",
       "      <td>No</td>\n",
       "      <td>2630.0</td>\n",
       "      <td>152.0</td>\n",
       "      <td>189</td>\n",
       "    </tr>\n",
       "    <tr>\n",
       "      <th>11504796</th>\n",
       "      <td>11504796</td>\n",
       "      <td>Female</td>\n",
       "      <td>51</td>\n",
       "      <td>1</td>\n",
       "      <td>28.0</td>\n",
       "      <td>0</td>\n",
       "      <td>1-2 Year</td>\n",
       "      <td>Yes</td>\n",
       "      <td>48443.0</td>\n",
       "      <td>26.0</td>\n",
       "      <td>274</td>\n",
       "    </tr>\n",
       "    <tr>\n",
       "      <th>11504797</th>\n",
       "      <td>11504797</td>\n",
       "      <td>Male</td>\n",
       "      <td>25</td>\n",
       "      <td>1</td>\n",
       "      <td>28.0</td>\n",
       "      <td>1</td>\n",
       "      <td>&lt; 1 Year</td>\n",
       "      <td>No</td>\n",
       "      <td>32855.0</td>\n",
       "      <td>152.0</td>\n",
       "      <td>189</td>\n",
       "    </tr>\n",
       "  </tbody>\n",
       "</table>\n",
       "<p>11504798 rows × 11 columns</p>\n",
       "</div>"
      ],
      "text/plain": [
       "                id  Gender  Age  Driving_License  Region_Code  \\\n",
       "0                0    Male   21                1         35.0   \n",
       "1                1    Male   43                1         28.0   \n",
       "2                2  Female   25                1         14.0   \n",
       "3                3  Female   35                1          1.0   \n",
       "4                4  Female   36                1         15.0   \n",
       "...            ...     ...  ...              ...          ...   \n",
       "11504793  11504793    Male   48                1          6.0   \n",
       "11504794  11504794  Female   26                1         36.0   \n",
       "11504795  11504795  Female   29                1         32.0   \n",
       "11504796  11504796  Female   51                1         28.0   \n",
       "11504797  11504797    Male   25                1         28.0   \n",
       "\n",
       "          Previously_Insured Vehicle_Age Vehicle_Damage  Annual_Premium  \\\n",
       "0                          0    1-2 Year            Yes         65101.0   \n",
       "1                          0   > 2 Years            Yes         58911.0   \n",
       "2                          1    < 1 Year             No         38043.0   \n",
       "3                          0    1-2 Year            Yes          2630.0   \n",
       "4                          1    1-2 Year             No         31951.0   \n",
       "...                      ...         ...            ...             ...   \n",
       "11504793                   0    1-2 Year            Yes         27412.0   \n",
       "11504794                   0    < 1 Year            Yes         29509.0   \n",
       "11504795                   1    < 1 Year             No          2630.0   \n",
       "11504796                   0    1-2 Year            Yes         48443.0   \n",
       "11504797                   1    < 1 Year             No         32855.0   \n",
       "\n",
       "          Policy_Sales_Channel  Vintage  \n",
       "0                        124.0      187  \n",
       "1                         26.0      288  \n",
       "2                        152.0      254  \n",
       "3                        156.0       76  \n",
       "4                        152.0      294  \n",
       "...                        ...      ...  \n",
       "11504793                  26.0      218  \n",
       "11504794                 152.0      115  \n",
       "11504795                 152.0      189  \n",
       "11504796                  26.0      274  \n",
       "11504797                 152.0      189  \n",
       "\n",
       "[11504798 rows x 11 columns]"
      ]
     },
     "execution_count": 36,
     "metadata": {},
     "output_type": "execute_result"
    }
   ],
   "source": [
    "X"
   ]
  },
  {
   "cell_type": "code",
   "execution_count": 37,
   "id": "f4138c97-7c86-46f2-b14e-f795263f497c",
   "metadata": {},
   "outputs": [
    {
     "data": {
      "text/html": [
       "<div>\n",
       "<style scoped>\n",
       "    .dataframe tbody tr th:only-of-type {\n",
       "        vertical-align: middle;\n",
       "    }\n",
       "\n",
       "    .dataframe tbody tr th {\n",
       "        vertical-align: top;\n",
       "    }\n",
       "\n",
       "    .dataframe thead th {\n",
       "        text-align: right;\n",
       "    }\n",
       "</style>\n",
       "<table border=\"1\" class=\"dataframe\">\n",
       "  <thead>\n",
       "    <tr style=\"text-align: right;\">\n",
       "      <th></th>\n",
       "      <th>Response</th>\n",
       "    </tr>\n",
       "  </thead>\n",
       "  <tbody>\n",
       "    <tr>\n",
       "      <th>0</th>\n",
       "      <td>0</td>\n",
       "    </tr>\n",
       "    <tr>\n",
       "      <th>1</th>\n",
       "      <td>1</td>\n",
       "    </tr>\n",
       "    <tr>\n",
       "      <th>2</th>\n",
       "      <td>0</td>\n",
       "    </tr>\n",
       "    <tr>\n",
       "      <th>3</th>\n",
       "      <td>0</td>\n",
       "    </tr>\n",
       "    <tr>\n",
       "      <th>4</th>\n",
       "      <td>0</td>\n",
       "    </tr>\n",
       "    <tr>\n",
       "      <th>...</th>\n",
       "      <td>...</td>\n",
       "    </tr>\n",
       "    <tr>\n",
       "      <th>11504793</th>\n",
       "      <td>0</td>\n",
       "    </tr>\n",
       "    <tr>\n",
       "      <th>11504794</th>\n",
       "      <td>1</td>\n",
       "    </tr>\n",
       "    <tr>\n",
       "      <th>11504795</th>\n",
       "      <td>0</td>\n",
       "    </tr>\n",
       "    <tr>\n",
       "      <th>11504796</th>\n",
       "      <td>1</td>\n",
       "    </tr>\n",
       "    <tr>\n",
       "      <th>11504797</th>\n",
       "      <td>0</td>\n",
       "    </tr>\n",
       "  </tbody>\n",
       "</table>\n",
       "<p>11504798 rows × 1 columns</p>\n",
       "</div>"
      ],
      "text/plain": [
       "          Response\n",
       "0                0\n",
       "1                1\n",
       "2                0\n",
       "3                0\n",
       "4                0\n",
       "...            ...\n",
       "11504793         0\n",
       "11504794         1\n",
       "11504795         0\n",
       "11504796         1\n",
       "11504797         0\n",
       "\n",
       "[11504798 rows x 1 columns]"
      ]
     },
     "execution_count": 37,
     "metadata": {},
     "output_type": "execute_result"
    }
   ],
   "source": [
    "y"
   ]
  },
  {
   "cell_type": "markdown",
   "id": "e760dd53-756a-4f4b-96c8-edadec6002b9",
   "metadata": {},
   "source": [
    "### Pre-processing"
   ]
  },
  {
   "cell_type": "code",
   "execution_count": 38,
   "id": "7ef4c0db-6d35-407b-a64b-c8dfb1d0f05f",
   "metadata": {},
   "outputs": [],
   "source": [
    "# Part 1: One-Hot Encoding and Tracking Columns"
   ]
  },
  {
   "cell_type": "code",
   "execution_count": 43,
   "id": "b85b3be6-5173-4184-a443-01718dddfbee",
   "metadata": {},
   "outputs": [
    {
     "name": "stdout",
     "output_type": "stream",
     "text": [
      "No categorical columns found in the dataset\n",
      "One-Hot Encoded Train DataFrame:\n",
      "                id  Age  Driving_License  Region_Code  Previously_Insured  \\\n",
      "0                0   21                1         35.0                   0   \n",
      "1                1   43                1         28.0                   0   \n",
      "2                2   25                1         14.0                   1   \n",
      "3                3   35                1          1.0                   0   \n",
      "4                4   36                1         15.0                   1   \n",
      "...            ...  ...              ...          ...                 ...   \n",
      "11504793  11504793   48                1          6.0                   0   \n",
      "11504794  11504794   26                1         36.0                   0   \n",
      "11504795  11504795   29                1         32.0                   1   \n",
      "11504796  11504796   51                1         28.0                   0   \n",
      "11504797  11504797   25                1         28.0                   1   \n",
      "\n",
      "          Annual_Premium  Policy_Sales_Channel  Vintage  Gender_Male  \\\n",
      "0                65101.0                 124.0      187            1   \n",
      "1                58911.0                  26.0      288            1   \n",
      "2                38043.0                 152.0      254            0   \n",
      "3                 2630.0                 156.0       76            0   \n",
      "4                31951.0                 152.0      294            0   \n",
      "...                  ...                   ...      ...          ...   \n",
      "11504793         27412.0                  26.0      218            1   \n",
      "11504794         29509.0                 152.0      115            0   \n",
      "11504795          2630.0                 152.0      189            0   \n",
      "11504796         48443.0                  26.0      274            0   \n",
      "11504797         32855.0                 152.0      189            1   \n",
      "\n",
      "          Vehicle_Age_< 1 Year  Vehicle_Age_> 2 Years  Vehicle_Damage_Yes  \n",
      "0                            0                      0                   1  \n",
      "1                            0                      1                   1  \n",
      "2                            1                      0                   0  \n",
      "3                            0                      0                   1  \n",
      "4                            0                      0                   0  \n",
      "...                        ...                    ...                 ...  \n",
      "11504793                     0                      0                   1  \n",
      "11504794                     1                      0                   1  \n",
      "11504795                     1                      0                   0  \n",
      "11504796                     0                      0                   1  \n",
      "11504797                     1                      0                   0  \n",
      "\n",
      "[11504798 rows x 12 columns]\n",
      "\n",
      "One-Hot Encoded Test DataFrame:\n",
      "               id  Age  Driving_License  Region_Code  Previously_Insured  \\\n",
      "0        11504798   20                1         47.0                   0   \n",
      "1        11504799   47                1         28.0                   0   \n",
      "2        11504800   47                1         43.0                   0   \n",
      "3        11504801   22                1         47.0                   1   \n",
      "4        11504802   51                1         19.0                   0   \n",
      "...           ...  ...              ...          ...                 ...   \n",
      "7669861  19174659   57                1         28.0                   0   \n",
      "7669862  19174660   28                1         50.0                   1   \n",
      "7669863  19174661   47                1         33.0                   1   \n",
      "7669864  19174662   30                1         28.0                   0   \n",
      "7669865  19174663   23                1         46.0                   1   \n",
      "\n",
      "         Annual_Premium  Policy_Sales_Channel  Vintage Gender_Male  \\\n",
      "0                2630.0                 160.0      228           0   \n",
      "1               37483.0                 124.0      123        True   \n",
      "2                2630.0                  26.0      271        True   \n",
      "3               24502.0                 152.0      115           0   \n",
      "4               34115.0                 124.0      148        True   \n",
      "...                 ...                   ...      ...         ...   \n",
      "7669861         51661.0                 124.0      109        True   \n",
      "7669862         25651.0                 152.0      184        True   \n",
      "7669863          2630.0                 138.0       63        True   \n",
      "7669864         38866.0                 124.0      119        True   \n",
      "7669865         27498.0                 152.0       79        True   \n",
      "\n",
      "        Vehicle_Age_< 1 Year Vehicle_Age_> 2 Years Vehicle_Damage_Yes  \n",
      "0                       True                     0                  0  \n",
      "1                          0                     0               True  \n",
      "2                          0                     0               True  \n",
      "3                       True                     0                  0  \n",
      "4                          0                     0                  0  \n",
      "...                      ...                   ...                ...  \n",
      "7669861                    0                     0               True  \n",
      "7669862                 True                     0                  0  \n",
      "7669863                    0                     0                  0  \n",
      "7669864                 True                     0               True  \n",
      "7669865                 True                     0                  0  \n",
      "\n",
      "[7669866 rows x 12 columns]\n",
      "\n",
      "Updated Numerical Columns:\n",
      "['id', 'Age', 'Driving_License', 'Region_Code', 'Previously_Insured', 'Annual_Premium', 'Policy_Sales_Channel', 'Vintage', 'Gender_Male', 'Vehicle_Age_< 1 Year', 'Vehicle_Age_> 2 Years', 'Vehicle_Damage_Yes']\n",
      "\n",
      "Updated Categorical Columns:\n",
      "[]\n"
     ]
    }
   ],
   "source": [
    "# Identify numerical and categorical columns\n",
    "num_cols = X.select_dtypes(include=['int64', 'float64']).columns.tolist()\n",
    "cat_cols = X.select_dtypes(include=['object']).columns.tolist()\n",
    "\n",
    "if cat_cols: # Check if there are any categorical columns\n",
    "    # Apply one-hot encoding to categorical columns using get_dummies\n",
    "    X_encoded = pd.get_dummies(X[cat_cols], drop_first=True)\n",
    "    test_df_encoded = pd.get_dummies(test_df[cat_cols], drop_first=True)\n",
    "\n",
    "    # Ensure the columns in test_df_encoded match those in X_encoded\n",
    "    test_df_encoded = test_df_encoded.reindex(columns=X_encoded.columns, fill_value=0)\n",
    "\n",
    "    # Combine original numerical columns and the one-hot-encoded columns\n",
    "    X = pd.concat([X[num_cols], X_encoded], axis=1)\n",
    "    test_df = pd.concat([test_df[num_cols], test_df_encoded], axis=1)\n",
    "\n",
    "    # Convert boolean columns to integers (0s & 1s)\n",
    "    X = X.applymap(lambda x: 1 if x is True else (0 if x is False else x))\n",
    "    test_df = test_df.applymap(lambda x: 1 if X is True else (0 if x is False else x))\n",
    "\n",
    "    # Update num_cols and cat_cols\n",
    "    num_cols = X.select_dtypes(include=['int64', 'float64']).columns.tolist()\n",
    "    cat_cols = X.select_dtypes(include=['uint8']).columns.tolist()\n",
    "else:\n",
    "    print(\"No categorical columns found in the dataset\")\n",
    "    X = X[num_cols]\n",
    "    test_df = test_df[num_cols]\n",
    "\n",
    "print(\"One-Hot Encoded Train DataFrame:\")\n",
    "print(X)\n",
    "print(\"\\nOne-Hot Encoded Test DataFrame:\")\n",
    "print(test_df)\n",
    "\n",
    "print(\"\\nUpdated Numerical Columns:\")\n",
    "print(num_cols)\n",
    "print(\"\\nUpdated Categorical Columns:\")\n",
    "print(cat_cols)"
   ]
  },
  {
   "cell_type": "code",
   "execution_count": 44,
   "id": "2e1491de-a532-4f1a-a696-3282d3ba0997",
   "metadata": {},
   "outputs": [],
   "source": [
    "# Part 2: Scaling the Numerical Columns"
   ]
  },
  {
   "cell_type": "code",
   "execution_count": 46,
   "id": "0a8345e4-4feb-4175-af4c-f8b698f73832",
   "metadata": {},
   "outputs": [
    {
     "name": "stdout",
     "output_type": "stream",
     "text": [
      "Scaled Train DataFrame:\n",
      "                id       Age  Driving_License  Region_Code  \\\n",
      "0        -1.732051 -1.159410         0.044519     0.660528   \n",
      "1        -1.732050  0.307897         0.044519     0.121718   \n",
      "2        -1.732050 -0.892627         0.044519    -0.955902   \n",
      "3        -1.732050 -0.225669         0.044519    -1.956550   \n",
      "4        -1.732049 -0.158974         0.044519    -0.878929   \n",
      "...            ...       ...              ...          ...   \n",
      "11504793  1.732049  0.641376         0.044519    -1.571685   \n",
      "11504794  1.732050 -0.825931         0.044519     0.737501   \n",
      "11504795  1.732050 -0.625844         0.044519     0.429609   \n",
      "11504796  1.732050  0.841463         0.044519     0.121718   \n",
      "11504797  1.732051 -0.892627         0.044519     0.121718   \n",
      "\n",
      "          Previously_Insured  Annual_Premium  Policy_Sales_Channel   Vintage  \\\n",
      "0                  -0.928539        2.105145              0.214202  0.288852   \n",
      "1                  -0.928539        1.728962             -1.599414  1.551675   \n",
      "2                   1.076960        0.460756              0.732378  1.126566   \n",
      "3                  -0.928539       -1.691389              0.806403 -1.099003   \n",
      "4                   1.076960        0.090529              0.732378  1.626694   \n",
      "...                      ...             ...                   ...       ...   \n",
      "11504793           -0.928539       -0.185319             -1.599414  0.676451   \n",
      "11504794           -0.928539       -0.057878              0.732378 -0.611378   \n",
      "11504795            1.076960       -1.691389              0.732378  0.313859   \n",
      "11504796           -0.928539        1.092793             -1.599414  1.376630   \n",
      "11504797            1.076960        0.145467              0.732378  0.313859   \n",
      "\n",
      "          Gender_Male  Vehicle_Age__ 1 Year  Vehicle_Age_> 2 Years  \\\n",
      "0            0.920451             -0.883600              -0.208198   \n",
      "1            0.920451             -0.883600               4.803111   \n",
      "2           -1.086424              1.131734              -0.208198   \n",
      "3           -1.086424             -0.883600              -0.208198   \n",
      "4           -1.086424             -0.883600              -0.208198   \n",
      "...               ...                   ...                    ...   \n",
      "11504793     0.920451             -0.883600              -0.208198   \n",
      "11504794    -1.086424              1.131734              -0.208198   \n",
      "11504795    -1.086424              1.131734              -0.208198   \n",
      "11504796    -1.086424             -0.883600              -0.208198   \n",
      "11504797     0.920451              1.131734              -0.208198   \n",
      "\n",
      "          Vehicle_Damage_Yes  \n",
      "0                   0.994655  \n",
      "1                   0.994655  \n",
      "2                  -1.005374  \n",
      "3                   0.994655  \n",
      "4                  -1.005374  \n",
      "...                      ...  \n",
      "11504793            0.994655  \n",
      "11504794            0.994655  \n",
      "11504795           -1.005374  \n",
      "11504796            0.994655  \n",
      "11504797           -1.005374  \n",
      "\n",
      "[11504798 rows x 12 columns]\n",
      "\n",
      "Scaled Test DataFrame:\n",
      "               id       Age  Driving_License  Region_Code  Previously_Insured  \\\n",
      "0        1.732051 -1.226106         0.044519     1.584203           -0.928539   \n",
      "1        1.732051  0.574680         0.044519     0.121718           -0.928539   \n",
      "2        1.732052  0.574680         0.044519     1.276311           -0.928539   \n",
      "3        1.732052 -1.092714         0.044519     1.584203            1.076960   \n",
      "4        1.732052  0.841463         0.044519    -0.571038           -0.928539   \n",
      "...           ...       ...              ...          ...                 ...   \n",
      "7669861  4.041451  1.241637         0.044519     0.121718           -0.928539   \n",
      "7669862  4.041451 -0.692540         0.044519     1.815121            1.076960   \n",
      "7669863  4.041451  0.574680         0.044519     0.506582            1.076960   \n",
      "7669864  4.041452 -0.559148         0.044519     0.121718           -0.928539   \n",
      "7669865  4.041452 -1.026018         0.044519     1.507230            1.076960   \n",
      "\n",
      "         Annual_Premium  Policy_Sales_Channel   Vintage  Gender_Male  \\\n",
      "0             -1.691389              0.880428  0.801483    -1.086424   \n",
      "1              0.426724              0.214202 -0.511353     0.920451   \n",
      "2             -1.691389             -1.599414  1.339121     0.920451   \n",
      "3             -0.362167              0.732378 -0.611378    -1.086424   \n",
      "4              0.222041              0.214202 -0.198773     0.920451   \n",
      "...                 ...                   ...       ...          ...   \n",
      "7669861        1.288360              0.214202 -0.686397     0.920451   \n",
      "7669862       -0.292339              0.732378  0.251343     0.920451   \n",
      "7669863       -1.691389              0.473290 -1.261545     0.920451   \n",
      "7669864        0.510772              0.214202 -0.561365     0.920451   \n",
      "7669865       -0.180092              0.732378 -1.061493     0.920451   \n",
      "\n",
      "         Vehicle_Age__ 1 Year  Vehicle_Age_> 2 Years  Vehicle_Damage_Yes  \n",
      "0                    1.131734              -0.208198           -1.005374  \n",
      "1                   -0.883600              -0.208198            0.994655  \n",
      "2                   -0.883600              -0.208198            0.994655  \n",
      "3                    1.131734              -0.208198           -1.005374  \n",
      "4                   -0.883600              -0.208198           -1.005374  \n",
      "...                       ...                    ...                 ...  \n",
      "7669861             -0.883600              -0.208198            0.994655  \n",
      "7669862              1.131734              -0.208198           -1.005374  \n",
      "7669863             -0.883600              -0.208198           -1.005374  \n",
      "7669864              1.131734              -0.208198            0.994655  \n",
      "7669865              1.131734              -0.208198           -1.005374  \n",
      "\n",
      "[7669866 rows x 12 columns]\n"
     ]
    }
   ],
   "source": [
    "from sklearn.preprocessing import StandardScaler\n",
    "\n",
    "# Apply standard scaling to numerical columns\n",
    "scaler = StandardScaler()\n",
    "X[num_cols] = scaler.fit_transform(X[num_cols])\n",
    "test_df[num_cols] = scaler.transform(test_df[num_cols])\n",
    "\n",
    "# Clean feature names to ensure they do not contain prohibited characters\n",
    "X.columns = [col.replace('[', '_').replace(']', '_').replace('<', '_') for col in X.columns]\n",
    "test_df.columns = [col.replace('[', '_').replace(']', '_').replace('<', '_') for col in test_df.columns]\n",
    "\n",
    "print(\"Scaled Train DataFrame:\")\n",
    "print(X)\n",
    "print(\"\\nScaled Test DataFrame:\")\n",
    "print(test_df)"
   ]
  },
  {
   "cell_type": "markdown",
   "id": "b52797e2-e3ce-4ca3-babc-b10a816078de",
   "metadata": {},
   "source": [
    "### Train Test Split"
   ]
  },
  {
   "cell_type": "code",
   "execution_count": 48,
   "id": "75cf92cb-6f4c-4b3d-8def-de00424a3199",
   "metadata": {},
   "outputs": [],
   "source": [
    "from sklearn.model_selection import train_test_split\n",
    "X_train, X_test, y_train, y_test = train_test_split(\n",
    "    X, y, test_size=0.2, random_state=69)"
   ]
  },
  {
   "cell_type": "markdown",
   "id": "93339bbc-0935-479f-9724-fbe94ff5a9d2",
   "metadata": {},
   "source": [
    "## Modelling"
   ]
  },
  {
   "cell_type": "markdown",
   "id": "49200a5f-6bdc-43c4-82a7-b70ab4436c9c",
   "metadata": {},
   "source": [
    "### Naive Gauessian Bayes"
   ]
  },
  {
   "cell_type": "code",
   "execution_count": 49,
   "id": "6cbfb7d2-e1f6-4a41-8508-876fb63c7be0",
   "metadata": {},
   "outputs": [
    {
     "name": "stderr",
     "output_type": "stream",
     "text": [
      "/Users/maxsmith/my_env/lib/python3.8/site-packages/sklearn/utils/validation.py:1183: DataConversionWarning: A column-vector y was passed when a 1d array was expected. Please change the shape of y to (n_samples, ), for example using ravel().\n",
      "  y = column_or_1d(y, warn=True)\n"
     ]
    },
    {
     "name": "stdout",
     "output_type": "stream",
     "text": [
      "Test Set Classification Report:\n",
      "              precision    recall  f1-score   support\n",
      "\n",
      "           0       0.98      0.69      0.81   2017466\n",
      "           1       0.29      0.90      0.43    283494\n",
      "\n",
      "    accuracy                           0.71   2300960\n",
      "   macro avg       0.63      0.79      0.62   2300960\n",
      "weighted avg       0.89      0.71      0.76   2300960\n",
      "\n",
      "Test Set Accuracy: 0.7118\n"
     ]
    }
   ],
   "source": [
    "from sklearn.naive_bayes import GaussianNB\n",
    "from sklearn.metrics import accuracy_score, classification_report\n",
    "\n",
    "# Initialize and train the Naive Bayes model\n",
    "nb_model = GaussianNB()\n",
    "nb_model.fit(X_train, y_train)\n",
    "\n",
    "# Make predictions on the test set\n",
    "test_preds = nb_model.predict(X_test)\n",
    "print(\"Test Set Classification Report:\")\n",
    "print(classification_report(y_test, test_preds))\n",
    "\n",
    "# Calculate the accuracy on the test set\n",
    "test_accuracy = accuracy_score(y_test, test_preds)\n",
    "print(f\"Test Set Accuracy: {test_accuracy:.4f}\")"
   ]
  },
  {
   "cell_type": "code",
   "execution_count": 53,
   "id": "afe0f67e-bd3e-4acd-9ef7-473b82d075f3",
   "metadata": {},
   "outputs": [],
   "source": [
    "#!pip install xgboost"
   ]
  },
  {
   "cell_type": "code",
   "execution_count": 58,
   "id": "709c9a7c-1d45-4c93-ab63-27ce3c7e0e24",
   "metadata": {},
   "outputs": [
    {
     "name": "stderr",
     "output_type": "stream",
     "text": [
      "/Users/maxsmith/my_env/lib/python3.8/site-packages/xgboost/core.py:158: UserWarning: [18:46:23] WARNING: /Users/runner/work/xgboost/xgboost/src/learner.cc:740: \n",
      "Parameters: { \"use_label_encoder\" } are not used.\n",
      "\n",
      "  warnings.warn(smsg, UserWarning)\n"
     ]
    },
    {
     "name": "stdout",
     "output_type": "stream",
     "text": [
      "Test Set Classification Report:\n",
      "              precision    recall  f1-score   support\n",
      "\n",
      "           0       0.89      0.99      0.94   2017466\n",
      "           1       0.58      0.09      0.15    283494\n",
      "\n",
      "    accuracy                           0.88   2300960\n",
      "   macro avg       0.73      0.54      0.54   2300960\n",
      "weighted avg       0.85      0.88      0.84   2300960\n",
      "\n",
      "Test Set Accuracy: 0.8798\n"
     ]
    }
   ],
   "source": [
    "import xgboost as xgb\n",
    "\n",
    "# Initialise and train XGBoost model\n",
    "xgb_model = xgb.XGBClassifier(use_label_encoder=False, eval_metric='logloss')\n",
    "xgb_model.fit(X_train, y_train)\n",
    "\n",
    "# Make predictions on the test set\n",
    "test_preds = xgb_model.predict(X_test)\n",
    "\n",
    "# Print calssification report\n",
    "print(\"Test Set Classification Report:\")\n",
    "print(classification_report(y_test,test_preds))\n",
    "\n",
    "# Calculate the accuracy on the test set\n",
    "test_accuracy = accuracy_score(y_test, test_preds)\n",
    "print(f\"Test Set Accuracy: {test_accuracy:.4f}\")"
   ]
  },
  {
   "cell_type": "markdown",
   "id": "a004d1a7-c114-47f1-abb1-a728d2d14690",
   "metadata": {},
   "source": [
    "### Tune the Hyperparameters"
   ]
  },
  {
   "cell_type": "code",
   "execution_count": 61,
   "id": "439307f5-c006-4953-a739-5fcbf4419e4e",
   "metadata": {},
   "outputs": [],
   "source": [
    "#!pip install optuna"
   ]
  },
  {
   "cell_type": "code",
   "execution_count": 60,
   "id": "a2c1536c-26a1-4b95-8357-9ed9031340ea",
   "metadata": {},
   "outputs": [
    {
     "name": "stderr",
     "output_type": "stream",
     "text": [
      "[I 2024-07-07 18:50:54,188] A new study created in memory with name: no-name-2dd8a6fe-4f3d-408d-bd07-2048d53f2a5d\n",
      "/var/folders/j6/wgmktnvs1yz0xntx2vt1_73h0000gn/T/ipykernel_94657/945691218.py:20: FutureWarning: suggest_loguniform has been deprecated in v3.0.0. This feature will be removed in v6.0.0. See https://github.com/optuna/optuna/releases/tag/v3.0.0. Use suggest_float(..., log=True) instead.\n",
      "  'learning_rate': trial.suggest_loguniform('learning_rate', 1e-3, 1e-1),\n",
      "/var/folders/j6/wgmktnvs1yz0xntx2vt1_73h0000gn/T/ipykernel_94657/945691218.py:23: FutureWarning: suggest_uniform has been deprecated in v3.0.0. This feature will be removed in v6.0.0. See https://github.com/optuna/optuna/releases/tag/v3.0.0. Use suggest_float instead.\n",
      "  'subsample': trial.suggest_uniform('subsample', 0.5, 1.0),\n",
      "/var/folders/j6/wgmktnvs1yz0xntx2vt1_73h0000gn/T/ipykernel_94657/945691218.py:24: FutureWarning: suggest_uniform has been deprecated in v3.0.0. This feature will be removed in v6.0.0. See https://github.com/optuna/optuna/releases/tag/v3.0.0. Use suggest_float instead.\n",
      "  'colsample_bytree': trial.suggest_uniform('colsample_bytree', 0.5, 1.0),\n",
      "/var/folders/j6/wgmktnvs1yz0xntx2vt1_73h0000gn/T/ipykernel_94657/945691218.py:25: FutureWarning: suggest_loguniform has been deprecated in v3.0.0. This feature will be removed in v6.0.0. See https://github.com/optuna/optuna/releases/tag/v3.0.0. Use suggest_float(..., log=True) instead.\n",
      "  'gamma': trial.suggest_loguniform('gamma', 1e-3, 1e-1),\n",
      "/Users/maxsmith/my_env/lib/python3.8/site-packages/xgboost/core.py:158: UserWarning: [18:50:57] WARNING: /Users/runner/work/xgboost/xgboost/src/learner.cc:740: \n",
      "Parameters: { \"use_label_encoder\" } are not used.\n",
      "\n",
      "  warnings.warn(smsg, UserWarning)\n",
      "[I 2024-07-07 18:53:43,585] Trial 0 finished with value: 0.8800857033585981 and parameters: {'max_depth': 7, 'learning_rate': 0.03755421742568725, 'n_estimators': 838, 'min_child_weight': 9, 'subsample': 0.644707318616012, 'colsample_bytree': 0.8421525280465307, 'gamma': 0.004944389376758403}. Best is trial 0 with value: 0.8800857033585981.\n",
      "/var/folders/j6/wgmktnvs1yz0xntx2vt1_73h0000gn/T/ipykernel_94657/945691218.py:20: FutureWarning: suggest_loguniform has been deprecated in v3.0.0. This feature will be removed in v6.0.0. See https://github.com/optuna/optuna/releases/tag/v3.0.0. Use suggest_float(..., log=True) instead.\n",
      "  'learning_rate': trial.suggest_loguniform('learning_rate', 1e-3, 1e-1),\n",
      "/var/folders/j6/wgmktnvs1yz0xntx2vt1_73h0000gn/T/ipykernel_94657/945691218.py:23: FutureWarning: suggest_uniform has been deprecated in v3.0.0. This feature will be removed in v6.0.0. See https://github.com/optuna/optuna/releases/tag/v3.0.0. Use suggest_float instead.\n",
      "  'subsample': trial.suggest_uniform('subsample', 0.5, 1.0),\n",
      "/var/folders/j6/wgmktnvs1yz0xntx2vt1_73h0000gn/T/ipykernel_94657/945691218.py:24: FutureWarning: suggest_uniform has been deprecated in v3.0.0. This feature will be removed in v6.0.0. See https://github.com/optuna/optuna/releases/tag/v3.0.0. Use suggest_float instead.\n",
      "  'colsample_bytree': trial.suggest_uniform('colsample_bytree', 0.5, 1.0),\n",
      "/var/folders/j6/wgmktnvs1yz0xntx2vt1_73h0000gn/T/ipykernel_94657/945691218.py:25: FutureWarning: suggest_loguniform has been deprecated in v3.0.0. This feature will be removed in v6.0.0. See https://github.com/optuna/optuna/releases/tag/v3.0.0. Use suggest_float(..., log=True) instead.\n",
      "  'gamma': trial.suggest_loguniform('gamma', 1e-3, 1e-1),\n",
      "/Users/maxsmith/my_env/lib/python3.8/site-packages/xgboost/core.py:158: UserWarning: [18:53:47] WARNING: /Users/runner/work/xgboost/xgboost/src/learner.cc:740: \n",
      "Parameters: { \"use_label_encoder\" } are not used.\n",
      "\n",
      "  warnings.warn(smsg, UserWarning)\n",
      "[I 2024-07-07 18:54:47,644] Trial 1 finished with value: 0.8793534003198665 and parameters: {'max_depth': 9, 'learning_rate': 0.044661507204771474, 'n_estimators': 214, 'min_child_weight': 3, 'subsample': 0.8957022079510247, 'colsample_bytree': 0.5552623900065303, 'gamma': 0.03193526771866475}. Best is trial 0 with value: 0.8800857033585981.\n",
      "/var/folders/j6/wgmktnvs1yz0xntx2vt1_73h0000gn/T/ipykernel_94657/945691218.py:20: FutureWarning: suggest_loguniform has been deprecated in v3.0.0. This feature will be removed in v6.0.0. See https://github.com/optuna/optuna/releases/tag/v3.0.0. Use suggest_float(..., log=True) instead.\n",
      "  'learning_rate': trial.suggest_loguniform('learning_rate', 1e-3, 1e-1),\n",
      "/var/folders/j6/wgmktnvs1yz0xntx2vt1_73h0000gn/T/ipykernel_94657/945691218.py:23: FutureWarning: suggest_uniform has been deprecated in v3.0.0. This feature will be removed in v6.0.0. See https://github.com/optuna/optuna/releases/tag/v3.0.0. Use suggest_float instead.\n",
      "  'subsample': trial.suggest_uniform('subsample', 0.5, 1.0),\n",
      "/var/folders/j6/wgmktnvs1yz0xntx2vt1_73h0000gn/T/ipykernel_94657/945691218.py:24: FutureWarning: suggest_uniform has been deprecated in v3.0.0. This feature will be removed in v6.0.0. See https://github.com/optuna/optuna/releases/tag/v3.0.0. Use suggest_float instead.\n",
      "  'colsample_bytree': trial.suggest_uniform('colsample_bytree', 0.5, 1.0),\n",
      "/var/folders/j6/wgmktnvs1yz0xntx2vt1_73h0000gn/T/ipykernel_94657/945691218.py:25: FutureWarning: suggest_loguniform has been deprecated in v3.0.0. This feature will be removed in v6.0.0. See https://github.com/optuna/optuna/releases/tag/v3.0.0. Use suggest_float(..., log=True) instead.\n",
      "  'gamma': trial.suggest_loguniform('gamma', 1e-3, 1e-1),\n",
      "/Users/maxsmith/my_env/lib/python3.8/site-packages/xgboost/core.py:158: UserWarning: [18:54:51] WARNING: /Users/runner/work/xgboost/xgboost/src/learner.cc:740: \n",
      "Parameters: { \"use_label_encoder\" } are not used.\n",
      "\n",
      "  warnings.warn(smsg, UserWarning)\n",
      "[I 2024-07-07 18:56:53,758] Trial 2 finished with value: 0.8767931645921703 and parameters: {'max_depth': 3, 'learning_rate': 0.005608880018486167, 'n_estimators': 973, 'min_child_weight': 2, 'subsample': 0.8594166737435769, 'colsample_bytree': 0.6528155122532981, 'gamma': 0.002446553928204719}. Best is trial 0 with value: 0.8800857033585981.\n",
      "/var/folders/j6/wgmktnvs1yz0xntx2vt1_73h0000gn/T/ipykernel_94657/945691218.py:20: FutureWarning: suggest_loguniform has been deprecated in v3.0.0. This feature will be removed in v6.0.0. See https://github.com/optuna/optuna/releases/tag/v3.0.0. Use suggest_float(..., log=True) instead.\n",
      "  'learning_rate': trial.suggest_loguniform('learning_rate', 1e-3, 1e-1),\n",
      "/var/folders/j6/wgmktnvs1yz0xntx2vt1_73h0000gn/T/ipykernel_94657/945691218.py:23: FutureWarning: suggest_uniform has been deprecated in v3.0.0. This feature will be removed in v6.0.0. See https://github.com/optuna/optuna/releases/tag/v3.0.0. Use suggest_float instead.\n",
      "  'subsample': trial.suggest_uniform('subsample', 0.5, 1.0),\n",
      "/var/folders/j6/wgmktnvs1yz0xntx2vt1_73h0000gn/T/ipykernel_94657/945691218.py:24: FutureWarning: suggest_uniform has been deprecated in v3.0.0. This feature will be removed in v6.0.0. See https://github.com/optuna/optuna/releases/tag/v3.0.0. Use suggest_float instead.\n",
      "  'colsample_bytree': trial.suggest_uniform('colsample_bytree', 0.5, 1.0),\n",
      "/var/folders/j6/wgmktnvs1yz0xntx2vt1_73h0000gn/T/ipykernel_94657/945691218.py:25: FutureWarning: suggest_loguniform has been deprecated in v3.0.0. This feature will be removed in v6.0.0. See https://github.com/optuna/optuna/releases/tag/v3.0.0. Use suggest_float(..., log=True) instead.\n",
      "  'gamma': trial.suggest_loguniform('gamma', 1e-3, 1e-1),\n",
      "/Users/maxsmith/my_env/lib/python3.8/site-packages/xgboost/core.py:158: UserWarning: [18:56:57] WARNING: /Users/runner/work/xgboost/xgboost/src/learner.cc:740: \n",
      "Parameters: { \"use_label_encoder\" } are not used.\n",
      "\n",
      "  warnings.warn(smsg, UserWarning)\n",
      "[I 2024-07-07 19:00:43,163] Trial 3 finished with value: 0.880501616716501 and parameters: {'max_depth': 10, 'learning_rate': 0.09596575691102782, 'n_estimators': 805, 'min_child_weight': 1, 'subsample': 0.8215384759202986, 'colsample_bytree': 0.553706422481063, 'gamma': 0.04841136437026109}. Best is trial 3 with value: 0.880501616716501.\n",
      "/var/folders/j6/wgmktnvs1yz0xntx2vt1_73h0000gn/T/ipykernel_94657/945691218.py:20: FutureWarning: suggest_loguniform has been deprecated in v3.0.0. This feature will be removed in v6.0.0. See https://github.com/optuna/optuna/releases/tag/v3.0.0. Use suggest_float(..., log=True) instead.\n",
      "  'learning_rate': trial.suggest_loguniform('learning_rate', 1e-3, 1e-1),\n",
      "/var/folders/j6/wgmktnvs1yz0xntx2vt1_73h0000gn/T/ipykernel_94657/945691218.py:23: FutureWarning: suggest_uniform has been deprecated in v3.0.0. This feature will be removed in v6.0.0. See https://github.com/optuna/optuna/releases/tag/v3.0.0. Use suggest_float instead.\n",
      "  'subsample': trial.suggest_uniform('subsample', 0.5, 1.0),\n",
      "/var/folders/j6/wgmktnvs1yz0xntx2vt1_73h0000gn/T/ipykernel_94657/945691218.py:24: FutureWarning: suggest_uniform has been deprecated in v3.0.0. This feature will be removed in v6.0.0. See https://github.com/optuna/optuna/releases/tag/v3.0.0. Use suggest_float instead.\n",
      "  'colsample_bytree': trial.suggest_uniform('colsample_bytree', 0.5, 1.0),\n",
      "/var/folders/j6/wgmktnvs1yz0xntx2vt1_73h0000gn/T/ipykernel_94657/945691218.py:25: FutureWarning: suggest_loguniform has been deprecated in v3.0.0. This feature will be removed in v6.0.0. See https://github.com/optuna/optuna/releases/tag/v3.0.0. Use suggest_float(..., log=True) instead.\n",
      "  'gamma': trial.suggest_loguniform('gamma', 1e-3, 1e-1),\n",
      "/Users/maxsmith/my_env/lib/python3.8/site-packages/xgboost/core.py:158: UserWarning: [19:00:47] WARNING: /Users/runner/work/xgboost/xgboost/src/learner.cc:740: \n",
      "Parameters: { \"use_label_encoder\" } are not used.\n",
      "\n",
      "  warnings.warn(smsg, UserWarning)\n",
      "[I 2024-07-07 19:02:41,904] Trial 4 finished with value: 0.8767931645921703 and parameters: {'max_depth': 3, 'learning_rate': 0.002677063431667598, 'n_estimators': 918, 'min_child_weight': 8, 'subsample': 0.7680201359654797, 'colsample_bytree': 0.9136430959571918, 'gamma': 0.024951040578263854}. Best is trial 3 with value: 0.880501616716501.\n",
      "/var/folders/j6/wgmktnvs1yz0xntx2vt1_73h0000gn/T/ipykernel_94657/945691218.py:20: FutureWarning: suggest_loguniform has been deprecated in v3.0.0. This feature will be removed in v6.0.0. See https://github.com/optuna/optuna/releases/tag/v3.0.0. Use suggest_float(..., log=True) instead.\n",
      "  'learning_rate': trial.suggest_loguniform('learning_rate', 1e-3, 1e-1),\n",
      "/var/folders/j6/wgmktnvs1yz0xntx2vt1_73h0000gn/T/ipykernel_94657/945691218.py:23: FutureWarning: suggest_uniform has been deprecated in v3.0.0. This feature will be removed in v6.0.0. See https://github.com/optuna/optuna/releases/tag/v3.0.0. Use suggest_float instead.\n",
      "  'subsample': trial.suggest_uniform('subsample', 0.5, 1.0),\n",
      "/var/folders/j6/wgmktnvs1yz0xntx2vt1_73h0000gn/T/ipykernel_94657/945691218.py:24: FutureWarning: suggest_uniform has been deprecated in v3.0.0. This feature will be removed in v6.0.0. See https://github.com/optuna/optuna/releases/tag/v3.0.0. Use suggest_float instead.\n",
      "  'colsample_bytree': trial.suggest_uniform('colsample_bytree', 0.5, 1.0),\n",
      "/var/folders/j6/wgmktnvs1yz0xntx2vt1_73h0000gn/T/ipykernel_94657/945691218.py:25: FutureWarning: suggest_loguniform has been deprecated in v3.0.0. This feature will be removed in v6.0.0. See https://github.com/optuna/optuna/releases/tag/v3.0.0. Use suggest_float(..., log=True) instead.\n",
      "  'gamma': trial.suggest_loguniform('gamma', 1e-3, 1e-1),\n",
      "/Users/maxsmith/my_env/lib/python3.8/site-packages/xgboost/core.py:158: UserWarning: [19:02:45] WARNING: /Users/runner/work/xgboost/xgboost/src/learner.cc:740: \n",
      "Parameters: { \"use_label_encoder\" } are not used.\n",
      "\n",
      "  warnings.warn(smsg, UserWarning)\n",
      "[I 2024-07-07 19:04:09,228] Trial 5 finished with value: 0.878644565746471 and parameters: {'max_depth': 6, 'learning_rate': 0.03922880763103719, 'n_estimators': 375, 'min_child_weight': 2, 'subsample': 0.8163507067975322, 'colsample_bytree': 0.5177567155027207, 'gamma': 0.0013321240638028856}. Best is trial 3 with value: 0.880501616716501.\n",
      "/var/folders/j6/wgmktnvs1yz0xntx2vt1_73h0000gn/T/ipykernel_94657/945691218.py:20: FutureWarning: suggest_loguniform has been deprecated in v3.0.0. This feature will be removed in v6.0.0. See https://github.com/optuna/optuna/releases/tag/v3.0.0. Use suggest_float(..., log=True) instead.\n",
      "  'learning_rate': trial.suggest_loguniform('learning_rate', 1e-3, 1e-1),\n",
      "/var/folders/j6/wgmktnvs1yz0xntx2vt1_73h0000gn/T/ipykernel_94657/945691218.py:23: FutureWarning: suggest_uniform has been deprecated in v3.0.0. This feature will be removed in v6.0.0. See https://github.com/optuna/optuna/releases/tag/v3.0.0. Use suggest_float instead.\n",
      "  'subsample': trial.suggest_uniform('subsample', 0.5, 1.0),\n",
      "/var/folders/j6/wgmktnvs1yz0xntx2vt1_73h0000gn/T/ipykernel_94657/945691218.py:24: FutureWarning: suggest_uniform has been deprecated in v3.0.0. This feature will be removed in v6.0.0. See https://github.com/optuna/optuna/releases/tag/v3.0.0. Use suggest_float instead.\n",
      "  'colsample_bytree': trial.suggest_uniform('colsample_bytree', 0.5, 1.0),\n",
      "/var/folders/j6/wgmktnvs1yz0xntx2vt1_73h0000gn/T/ipykernel_94657/945691218.py:25: FutureWarning: suggest_loguniform has been deprecated in v3.0.0. This feature will be removed in v6.0.0. See https://github.com/optuna/optuna/releases/tag/v3.0.0. Use suggest_float(..., log=True) instead.\n",
      "  'gamma': trial.suggest_loguniform('gamma', 1e-3, 1e-1),\n",
      "/Users/maxsmith/my_env/lib/python3.8/site-packages/xgboost/core.py:158: UserWarning: [19:04:13] WARNING: /Users/runner/work/xgboost/xgboost/src/learner.cc:740: \n",
      "Parameters: { \"use_label_encoder\" } are not used.\n",
      "\n",
      "  warnings.warn(smsg, UserWarning)\n",
      "[I 2024-07-07 19:05:40,885] Trial 6 finished with value: 0.8767931645921703 and parameters: {'max_depth': 3, 'learning_rate': 0.0023667925802523387, 'n_estimators': 598, 'min_child_weight': 2, 'subsample': 0.5655053488266606, 'colsample_bytree': 0.6537494025307838, 'gamma': 0.004370749283800986}. Best is trial 3 with value: 0.880501616716501.\n",
      "/var/folders/j6/wgmktnvs1yz0xntx2vt1_73h0000gn/T/ipykernel_94657/945691218.py:20: FutureWarning: suggest_loguniform has been deprecated in v3.0.0. This feature will be removed in v6.0.0. See https://github.com/optuna/optuna/releases/tag/v3.0.0. Use suggest_float(..., log=True) instead.\n",
      "  'learning_rate': trial.suggest_loguniform('learning_rate', 1e-3, 1e-1),\n",
      "/var/folders/j6/wgmktnvs1yz0xntx2vt1_73h0000gn/T/ipykernel_94657/945691218.py:23: FutureWarning: suggest_uniform has been deprecated in v3.0.0. This feature will be removed in v6.0.0. See https://github.com/optuna/optuna/releases/tag/v3.0.0. Use suggest_float instead.\n",
      "  'subsample': trial.suggest_uniform('subsample', 0.5, 1.0),\n",
      "/var/folders/j6/wgmktnvs1yz0xntx2vt1_73h0000gn/T/ipykernel_94657/945691218.py:24: FutureWarning: suggest_uniform has been deprecated in v3.0.0. This feature will be removed in v6.0.0. See https://github.com/optuna/optuna/releases/tag/v3.0.0. Use suggest_float instead.\n",
      "  'colsample_bytree': trial.suggest_uniform('colsample_bytree', 0.5, 1.0),\n",
      "/var/folders/j6/wgmktnvs1yz0xntx2vt1_73h0000gn/T/ipykernel_94657/945691218.py:25: FutureWarning: suggest_loguniform has been deprecated in v3.0.0. This feature will be removed in v6.0.0. See https://github.com/optuna/optuna/releases/tag/v3.0.0. Use suggest_float(..., log=True) instead.\n",
      "  'gamma': trial.suggest_loguniform('gamma', 1e-3, 1e-1),\n",
      "/Users/maxsmith/my_env/lib/python3.8/site-packages/xgboost/core.py:158: UserWarning: [19:05:44] WARNING: /Users/runner/work/xgboost/xgboost/src/learner.cc:740: \n",
      "Parameters: { \"use_label_encoder\" } are not used.\n",
      "\n",
      "  warnings.warn(smsg, UserWarning)\n",
      "[I 2024-07-07 19:06:36,844] Trial 7 finished with value: 0.8767931645921703 and parameters: {'max_depth': 10, 'learning_rate': 0.00801357362618324, 'n_estimators': 171, 'min_child_weight': 5, 'subsample': 0.6589778079881781, 'colsample_bytree': 0.5313324098656901, 'gamma': 0.08983576347670681}. Best is trial 3 with value: 0.880501616716501.\n",
      "/var/folders/j6/wgmktnvs1yz0xntx2vt1_73h0000gn/T/ipykernel_94657/945691218.py:20: FutureWarning: suggest_loguniform has been deprecated in v3.0.0. This feature will be removed in v6.0.0. See https://github.com/optuna/optuna/releases/tag/v3.0.0. Use suggest_float(..., log=True) instead.\n",
      "  'learning_rate': trial.suggest_loguniform('learning_rate', 1e-3, 1e-1),\n",
      "/var/folders/j6/wgmktnvs1yz0xntx2vt1_73h0000gn/T/ipykernel_94657/945691218.py:23: FutureWarning: suggest_uniform has been deprecated in v3.0.0. This feature will be removed in v6.0.0. See https://github.com/optuna/optuna/releases/tag/v3.0.0. Use suggest_float instead.\n",
      "  'subsample': trial.suggest_uniform('subsample', 0.5, 1.0),\n",
      "/var/folders/j6/wgmktnvs1yz0xntx2vt1_73h0000gn/T/ipykernel_94657/945691218.py:24: FutureWarning: suggest_uniform has been deprecated in v3.0.0. This feature will be removed in v6.0.0. See https://github.com/optuna/optuna/releases/tag/v3.0.0. Use suggest_float instead.\n",
      "  'colsample_bytree': trial.suggest_uniform('colsample_bytree', 0.5, 1.0),\n",
      "/var/folders/j6/wgmktnvs1yz0xntx2vt1_73h0000gn/T/ipykernel_94657/945691218.py:25: FutureWarning: suggest_loguniform has been deprecated in v3.0.0. This feature will be removed in v6.0.0. See https://github.com/optuna/optuna/releases/tag/v3.0.0. Use suggest_float(..., log=True) instead.\n",
      "  'gamma': trial.suggest_loguniform('gamma', 1e-3, 1e-1),\n",
      "/Users/maxsmith/my_env/lib/python3.8/site-packages/xgboost/core.py:158: UserWarning: [19:06:40] WARNING: /Users/runner/work/xgboost/xgboost/src/learner.cc:740: \n",
      "Parameters: { \"use_label_encoder\" } are not used.\n",
      "\n",
      "  warnings.warn(smsg, UserWarning)\n",
      "[I 2024-07-07 19:07:33,386] Trial 8 finished with value: 0.8767931645921703 and parameters: {'max_depth': 4, 'learning_rate': 0.01543443285844351, 'n_estimators': 333, 'min_child_weight': 4, 'subsample': 0.9982285930707013, 'colsample_bytree': 0.6914604028185543, 'gamma': 0.00774672044642652}. Best is trial 3 with value: 0.880501616716501.\n",
      "/var/folders/j6/wgmktnvs1yz0xntx2vt1_73h0000gn/T/ipykernel_94657/945691218.py:20: FutureWarning: suggest_loguniform has been deprecated in v3.0.0. This feature will be removed in v6.0.0. See https://github.com/optuna/optuna/releases/tag/v3.0.0. Use suggest_float(..., log=True) instead.\n",
      "  'learning_rate': trial.suggest_loguniform('learning_rate', 1e-3, 1e-1),\n",
      "/var/folders/j6/wgmktnvs1yz0xntx2vt1_73h0000gn/T/ipykernel_94657/945691218.py:23: FutureWarning: suggest_uniform has been deprecated in v3.0.0. This feature will be removed in v6.0.0. See https://github.com/optuna/optuna/releases/tag/v3.0.0. Use suggest_float instead.\n",
      "  'subsample': trial.suggest_uniform('subsample', 0.5, 1.0),\n",
      "/var/folders/j6/wgmktnvs1yz0xntx2vt1_73h0000gn/T/ipykernel_94657/945691218.py:24: FutureWarning: suggest_uniform has been deprecated in v3.0.0. This feature will be removed in v6.0.0. See https://github.com/optuna/optuna/releases/tag/v3.0.0. Use suggest_float instead.\n",
      "  'colsample_bytree': trial.suggest_uniform('colsample_bytree', 0.5, 1.0),\n",
      "/var/folders/j6/wgmktnvs1yz0xntx2vt1_73h0000gn/T/ipykernel_94657/945691218.py:25: FutureWarning: suggest_loguniform has been deprecated in v3.0.0. This feature will be removed in v6.0.0. See https://github.com/optuna/optuna/releases/tag/v3.0.0. Use suggest_float(..., log=True) instead.\n",
      "  'gamma': trial.suggest_loguniform('gamma', 1e-3, 1e-1),\n",
      "/Users/maxsmith/my_env/lib/python3.8/site-packages/xgboost/core.py:158: UserWarning: [19:07:37] WARNING: /Users/runner/work/xgboost/xgboost/src/learner.cc:740: \n",
      "Parameters: { \"use_label_encoder\" } are not used.\n",
      "\n",
      "  warnings.warn(smsg, UserWarning)\n",
      "[I 2024-07-07 19:08:04,395] Trial 9 finished with value: 0.8767931645921703 and parameters: {'max_depth': 7, 'learning_rate': 0.0164296875586152, 'n_estimators': 105, 'min_child_weight': 6, 'subsample': 0.7389544551301306, 'colsample_bytree': 0.6504940846753511, 'gamma': 0.024403499628433103}. Best is trial 3 with value: 0.880501616716501.\n"
     ]
    },
    {
     "name": "stdout",
     "output_type": "stream",
     "text": [
      "Best parameters: {'max_depth': 10, 'learning_rate': 0.09596575691102782, 'n_estimators': 805, 'min_child_weight': 1, 'subsample': 0.8215384759202986, 'colsample_bytree': 0.553706422481063, 'gamma': 0.04841136437026109}\n"
     ]
    },
    {
     "name": "stderr",
     "output_type": "stream",
     "text": [
      "/Users/maxsmith/my_env/lib/python3.8/site-packages/xgboost/core.py:158: UserWarning: [19:08:08] WARNING: /Users/runner/work/xgboost/xgboost/src/learner.cc:740: \n",
      "Parameters: { \"use_label_encoder\" } are not used.\n",
      "\n",
      "  warnings.warn(smsg, UserWarning)\n"
     ]
    },
    {
     "name": "stdout",
     "output_type": "stream",
     "text": [
      "Test Set Classification Report:\n",
      "              precision    recall  f1-score   support\n",
      "\n",
      "           0       0.89      0.99      0.94   2017466\n",
      "           1       0.56      0.13      0.21    283494\n",
      "\n",
      "    accuracy                           0.88   2300960\n",
      "   macro avg       0.73      0.56      0.57   2300960\n",
      "weighted avg       0.85      0.88      0.85   2300960\n",
      "\n",
      "Test Set Accuracy: 0.8805\n"
     ]
    }
   ],
   "source": [
    "import optuna\n",
    "import xgboost as xgb\n",
    "from sklearn.metrics import accuracy_score, classification_report\n",
    "from sklearn.preprocessing import StandardScaler\n",
    "from sklearn.model_selection import train_test_split\n",
    "\n",
    "# # Assuming X_train, X_test, y_train, and y_test are already defined\n",
    "# # Example:\n",
    "# # X_train = pd.DataFrame(...) # Your training feature matrix\n",
    "# # X_test = pd.DataFrame(...)  # Your test feature matrix\n",
    "# # y_train = pd.Series(...)    # Your training target variable\n",
    "# # y_test = pd.Series(...)     # Your test target variable\n",
    "\n",
    "# # Standardize the numerical features\n",
    "\n",
    "# Define the objective function for Optuna\n",
    "def objective(trial):\n",
    "    param = {\n",
    "        'max_depth': trial.suggest_int('max_depth', 3, 10),\n",
    "        'learning_rate': trial.suggest_loguniform('learning_rate', 1e-3, 1e-1),\n",
    "        'n_estimators': trial.suggest_int('n_estimators', 100, 1000),\n",
    "        'min_child_weight': trial.suggest_int('min_child_weight', 1, 10),\n",
    "        'subsample': trial.suggest_uniform('subsample', 0.5, 1.0),\n",
    "        'colsample_bytree': trial.suggest_uniform('colsample_bytree', 0.5, 1.0),\n",
    "        'gamma': trial.suggest_loguniform('gamma', 1e-3, 1e-1),\n",
    "    }\n",
    "    \n",
    "    xgb_model = xgb.XGBClassifier(use_label_encoder=False, eval_metric='logloss', **param)\n",
    "    xgb_model.fit(X_train, y_train)\n",
    "    \n",
    "    preds = xgb_model.predict(X_test)\n",
    "    accuracy = accuracy_score(y_test, preds)\n",
    "    return accuracy\n",
    "\n",
    "# Create an Optuna study and optimize the objective function\n",
    "study = optuna.create_study(direction='maximize')\n",
    "study.optimize(objective, n_trials=10)\n",
    "\n",
    "# Get the best hyperparameters\n",
    "best_params = study.best_params\n",
    "print(f\"Best parameters: {best_params}\")\n",
    "\n",
    "# Train the final model with the best hyperparameters\n",
    "xgb_model = xgb.XGBClassifier(use_label_encoder=False, eval_metric='logloss', **best_params)\n",
    "xgb_model.fit(X_train, y_train)\n",
    "\n",
    "# Make predictions on the test set\n",
    "test_preds = xgb_model.predict(X_test)\n",
    "\n",
    "# Print classification report\n",
    "print(\"Test Set Classification Report:\")\n",
    "print(classification_report(y_test, test_preds))\n",
    "\n",
    "# Calculate the accuracy on the test set\n",
    "test_accuracy = accuracy_score(y_test, test_preds)\n",
    "print(f\"Test Set Accuracy: {test_accuracy:.4f}\")"
   ]
  },
  {
   "cell_type": "markdown",
   "id": "1dbbce09-ec17-4fad-8ab4-f06e6f7d4ec1",
   "metadata": {},
   "source": [
    "### Final Model Accuracy and Confusion Matrix"
   ]
  },
  {
   "cell_type": "code",
   "execution_count": 64,
   "id": "0a372ef5-47d6-402a-bd3f-3b4c5f812e15",
   "metadata": {},
   "outputs": [
    {
     "name": "stdout",
     "output_type": "stream",
     "text": [
      "Test Set Classification Report:\n",
      "              precision    recall  f1-score   support\n",
      "\n",
      "           0       0.89      0.99      0.94   2017466\n",
      "           1       0.56      0.13      0.21    283494\n",
      "\n",
      "    accuracy                           0.88   2300960\n",
      "   macro avg       0.73      0.56      0.57   2300960\n",
      "weighted avg       0.85      0.88      0.85   2300960\n",
      "\n",
      "Test Set Accuracy: 0.8805\n"
     ]
    }
   ],
   "source": [
    "# Print classification report\n",
    "print(\"Test Set Classification Report:\")\n",
    "print(classification_report(y_test, test_preds))\n",
    "\n",
    "# Calculate the accuracy on the test set\n",
    "test_accuracy = accuracy_score(y_test, test_preds)\n",
    "print(f\"Test Set Accuracy: {test_accuracy:.4f}\")"
   ]
  },
  {
   "cell_type": "code",
   "execution_count": null,
   "id": "508fae5c-47fb-4c1e-84fa-c0f32b084c2f",
   "metadata": {},
   "outputs": [],
   "source": [
    "## ..to Improve.. \n",
    "# Train further models and compare their accuracy\n",
    "# stacking multiple models into an ensemble model\n",
    "# conduct feature engineering\n",
    "# look into feature importance\n",
    "# use neural networks"
   ]
  }
 ],
 "metadata": {
  "kernelspec": {
   "display_name": "Python 3 (ipykernel)",
   "language": "python",
   "name": "python3"
  },
  "language_info": {
   "codemirror_mode": {
    "name": "ipython",
    "version": 3
   },
   "file_extension": ".py",
   "mimetype": "text/x-python",
   "name": "python",
   "nbconvert_exporter": "python",
   "pygments_lexer": "ipython3",
   "version": "3.8.8"
  }
 },
 "nbformat": 4,
 "nbformat_minor": 5
}
